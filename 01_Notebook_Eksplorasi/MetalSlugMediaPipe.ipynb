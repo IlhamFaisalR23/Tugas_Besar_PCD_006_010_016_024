{
  "cells": [
    {
      "cell_type": "markdown",
      "id": "f693a31c",
      "metadata": {
        "id": "f693a31c"
      },
      "source": [
        "# 🎮 Kontrol Metal Slug dengan Gestur Tangan\n",
        "\n",
        "Notebook ini digunakan untuk menghubungkan deteksi gestur tubuh melalui MediaPipe dengan aksi keyboard dalam permainan Metal Slug. Dengan menggunakan kamera dan pustaka MediaPipe, kita dapat mengenali berbagai gerakan tubuh, seperti:\n",
        "\n",
        "- Mengangkat tangan untuk menembak\n",
        "- Melempar granat\n",
        "- Melompat\n",
        "- Jalan maju/mundur\n",
        "- Menunduk\n",
        "\n",
        "Seluruh gerakan ini dikonversi menjadi input keyboard agar karakter dalam game dapat dikendalikan tanpa menyentuh keyboard secara manual."
      ]
    },
    {
      "cell_type": "markdown",
      "id": "b6520411",
      "metadata": {
        "id": "b6520411"
      },
      "source": [
        "### 📋 Tabel Gesture dan Tombol\n",
        "\n",
        "| Gesture           | Tombol                  | Penjelasan                                                     |\n",
        "| ----------------- | ----------------------- | -------------------------------------------------------------- |\n",
        "| 🤚 Idle           | `None`                  | Diam, tidak ada aksi                                           |\n",
        "| ✋ Jalan / Maju    | `Arrow Right`           | Angkat tangan kiri lurus ke depan                              |\n",
        "| 🫲 Arah Maju      | `-` (DPAD/Arrow)        | Gerakan kepala ke kanan digunakan saat ingin maju              |\n",
        "| 🔫 Shoot          | `x`                     | Tangan kanan mengarah ke depan seperti memegang pistol         |\n",
        "| 💣 Grenade        | `s`                     | Gerakan melempar dari belakang ke depan dengan tangan kanan    |\n",
        "| 🔫⬆️ Shoot Upward | `Arrow Up + x`          | Tangan mengarah ke atas sambil posisi pistol                   |\n",
        "| 🔽 Crouch         | `Arrow Down`            | Kepala menunduk hingga hidung lebih rendah dari posisi telinga |\n",
        "| 🦘 Jump           | `z`                     | Lompat hingga posisi pundak keluar dari frame                  |"
      ]
    },
    {
      "cell_type": "markdown",
      "id": "47e40b0a",
      "metadata": {
        "id": "47e40b0a"
      },
      "source": [
        "\n",
        "# Deteksi Gesture\n",
        "\n",
        "Notebook ini digunakan untuk mendeteksi gesture dari gambar yang diunggah menggunakan MediaPipe. Ada beberapa gesture yang sudah terimplementasi, yaitu:\n",
        "- **Menembak** → ditekan tombol `x`\n",
        "- **Melempar Grenade** → ditekan tombol `s`\n"
      ]
    },
    {
      "cell_type": "code",
      "execution_count": 1,
      "id": "ec42d371",
      "metadata": {
        "colab": {
          "base_uri": "https://localhost:8080/"
        },
        "id": "ec42d371",
        "outputId": "9d2333e1-19ab-40c9-8192-c0ab7f6d3554"
      },
      "outputs": [
        {
          "output_type": "stream",
          "name": "stdout",
          "text": [
            "Requirement already satisfied: mediapipe in /usr/local/lib/python3.11/dist-packages (0.10.21)\n",
            "Requirement already satisfied: opencv-python in /usr/local/lib/python3.11/dist-packages (4.11.0.86)\n",
            "Requirement already satisfied: absl-py in /usr/local/lib/python3.11/dist-packages (from mediapipe) (1.4.0)\n",
            "Requirement already satisfied: attrs>=19.1.0 in /usr/local/lib/python3.11/dist-packages (from mediapipe) (25.3.0)\n",
            "Requirement already satisfied: flatbuffers>=2.0 in /usr/local/lib/python3.11/dist-packages (from mediapipe) (25.2.10)\n",
            "Requirement already satisfied: jax in /usr/local/lib/python3.11/dist-packages (from mediapipe) (0.5.2)\n",
            "Requirement already satisfied: jaxlib in /usr/local/lib/python3.11/dist-packages (from mediapipe) (0.5.1)\n",
            "Requirement already satisfied: matplotlib in /usr/local/lib/python3.11/dist-packages (from mediapipe) (3.10.0)\n",
            "Requirement already satisfied: numpy<2 in /usr/local/lib/python3.11/dist-packages (from mediapipe) (1.26.4)\n",
            "Requirement already satisfied: opencv-contrib-python in /usr/local/lib/python3.11/dist-packages (from mediapipe) (4.11.0.86)\n",
            "Requirement already satisfied: protobuf<5,>=4.25.3 in /usr/local/lib/python3.11/dist-packages (from mediapipe) (4.25.8)\n",
            "Requirement already satisfied: sounddevice>=0.4.4 in /usr/local/lib/python3.11/dist-packages (from mediapipe) (0.5.2)\n",
            "Requirement already satisfied: sentencepiece in /usr/local/lib/python3.11/dist-packages (from mediapipe) (0.2.0)\n",
            "Requirement already satisfied: CFFI>=1.0 in /usr/local/lib/python3.11/dist-packages (from sounddevice>=0.4.4->mediapipe) (1.17.1)\n",
            "Requirement already satisfied: ml_dtypes>=0.4.0 in /usr/local/lib/python3.11/dist-packages (from jax->mediapipe) (0.4.1)\n",
            "Requirement already satisfied: opt_einsum in /usr/local/lib/python3.11/dist-packages (from jax->mediapipe) (3.4.0)\n",
            "Requirement already satisfied: scipy>=1.11.1 in /usr/local/lib/python3.11/dist-packages (from jax->mediapipe) (1.15.3)\n",
            "Requirement already satisfied: contourpy>=1.0.1 in /usr/local/lib/python3.11/dist-packages (from matplotlib->mediapipe) (1.3.2)\n",
            "Requirement already satisfied: cycler>=0.10 in /usr/local/lib/python3.11/dist-packages (from matplotlib->mediapipe) (0.12.1)\n",
            "Requirement already satisfied: fonttools>=4.22.0 in /usr/local/lib/python3.11/dist-packages (from matplotlib->mediapipe) (4.58.2)\n",
            "Requirement already satisfied: kiwisolver>=1.3.1 in /usr/local/lib/python3.11/dist-packages (from matplotlib->mediapipe) (1.4.8)\n",
            "Requirement already satisfied: packaging>=20.0 in /usr/local/lib/python3.11/dist-packages (from matplotlib->mediapipe) (24.2)\n",
            "Requirement already satisfied: pillow>=8 in /usr/local/lib/python3.11/dist-packages (from matplotlib->mediapipe) (11.2.1)\n",
            "Requirement already satisfied: pyparsing>=2.3.1 in /usr/local/lib/python3.11/dist-packages (from matplotlib->mediapipe) (3.2.3)\n",
            "Requirement already satisfied: python-dateutil>=2.7 in /usr/local/lib/python3.11/dist-packages (from matplotlib->mediapipe) (2.9.0.post0)\n",
            "Requirement already satisfied: pycparser in /usr/local/lib/python3.11/dist-packages (from CFFI>=1.0->sounddevice>=0.4.4->mediapipe) (2.22)\n",
            "Requirement already satisfied: six>=1.5 in /usr/local/lib/python3.11/dist-packages (from python-dateutil>=2.7->matplotlib->mediapipe) (1.17.0)\n"
          ]
        }
      ],
      "source": [
        "\n",
        "!pip install mediapipe opencv-python\n"
      ]
    },
    {
      "cell_type": "markdown",
      "id": "XlqZ2ycUymTH",
      "metadata": {
        "id": "XlqZ2ycUymTH"
      },
      "source": [
        "# Import Module"
      ]
    },
    {
      "cell_type": "code",
      "execution_count": 2,
      "id": "ab75f6ed",
      "metadata": {
        "id": "ab75f6ed"
      },
      "outputs": [],
      "source": [
        "\n",
        "import cv2\n",
        "import mediapipe as mp\n",
        "import numpy as np\n",
        "from google.colab.patches import cv2_imshow\n",
        "from IPython.display import display\n",
        "import io\n",
        "from PIL import Image\n",
        "from google.colab import files\n"
      ]
    },
    {
      "cell_type": "markdown",
      "id": "jNevwOMPxzcY",
      "metadata": {
        "id": "jNevwOMPxzcY"
      },
      "source": [
        "# Mengunggah gambar untuk dideteksi"
      ]
    },
    {
      "cell_type": "code",
      "execution_count": 25,
      "id": "f2beb100",
      "metadata": {
        "colab": {
          "base_uri": "https://localhost:8080/",
          "height": 90
        },
        "id": "f2beb100",
        "outputId": "c905430e-3203-43a3-f1c8-a163f12430b5"
      },
      "outputs": [
        {
          "output_type": "display_data",
          "data": {
            "text/plain": [
              "<IPython.core.display.HTML object>"
            ],
            "text/html": [
              "\n",
              "     <input type=\"file\" id=\"files-2ae682a2-2273-4854-9cc4-0a04325b4116\" name=\"files[]\" multiple disabled\n",
              "        style=\"border:none\" />\n",
              "     <output id=\"result-2ae682a2-2273-4854-9cc4-0a04325b4116\">\n",
              "      Upload widget is only available when the cell has been executed in the\n",
              "      current browser session. Please rerun this cell to enable.\n",
              "      </output>\n",
              "      <script>// Copyright 2017 Google LLC\n",
              "//\n",
              "// Licensed under the Apache License, Version 2.0 (the \"License\");\n",
              "// you may not use this file except in compliance with the License.\n",
              "// You may obtain a copy of the License at\n",
              "//\n",
              "//      http://www.apache.org/licenses/LICENSE-2.0\n",
              "//\n",
              "// Unless required by applicable law or agreed to in writing, software\n",
              "// distributed under the License is distributed on an \"AS IS\" BASIS,\n",
              "// WITHOUT WARRANTIES OR CONDITIONS OF ANY KIND, either express or implied.\n",
              "// See the License for the specific language governing permissions and\n",
              "// limitations under the License.\n",
              "\n",
              "/**\n",
              " * @fileoverview Helpers for google.colab Python module.\n",
              " */\n",
              "(function(scope) {\n",
              "function span(text, styleAttributes = {}) {\n",
              "  const element = document.createElement('span');\n",
              "  element.textContent = text;\n",
              "  for (const key of Object.keys(styleAttributes)) {\n",
              "    element.style[key] = styleAttributes[key];\n",
              "  }\n",
              "  return element;\n",
              "}\n",
              "\n",
              "// Max number of bytes which will be uploaded at a time.\n",
              "const MAX_PAYLOAD_SIZE = 100 * 1024;\n",
              "\n",
              "function _uploadFiles(inputId, outputId) {\n",
              "  const steps = uploadFilesStep(inputId, outputId);\n",
              "  const outputElement = document.getElementById(outputId);\n",
              "  // Cache steps on the outputElement to make it available for the next call\n",
              "  // to uploadFilesContinue from Python.\n",
              "  outputElement.steps = steps;\n",
              "\n",
              "  return _uploadFilesContinue(outputId);\n",
              "}\n",
              "\n",
              "// This is roughly an async generator (not supported in the browser yet),\n",
              "// where there are multiple asynchronous steps and the Python side is going\n",
              "// to poll for completion of each step.\n",
              "// This uses a Promise to block the python side on completion of each step,\n",
              "// then passes the result of the previous step as the input to the next step.\n",
              "function _uploadFilesContinue(outputId) {\n",
              "  const outputElement = document.getElementById(outputId);\n",
              "  const steps = outputElement.steps;\n",
              "\n",
              "  const next = steps.next(outputElement.lastPromiseValue);\n",
              "  return Promise.resolve(next.value.promise).then((value) => {\n",
              "    // Cache the last promise value to make it available to the next\n",
              "    // step of the generator.\n",
              "    outputElement.lastPromiseValue = value;\n",
              "    return next.value.response;\n",
              "  });\n",
              "}\n",
              "\n",
              "/**\n",
              " * Generator function which is called between each async step of the upload\n",
              " * process.\n",
              " * @param {string} inputId Element ID of the input file picker element.\n",
              " * @param {string} outputId Element ID of the output display.\n",
              " * @return {!Iterable<!Object>} Iterable of next steps.\n",
              " */\n",
              "function* uploadFilesStep(inputId, outputId) {\n",
              "  const inputElement = document.getElementById(inputId);\n",
              "  inputElement.disabled = false;\n",
              "\n",
              "  const outputElement = document.getElementById(outputId);\n",
              "  outputElement.innerHTML = '';\n",
              "\n",
              "  const pickedPromise = new Promise((resolve) => {\n",
              "    inputElement.addEventListener('change', (e) => {\n",
              "      resolve(e.target.files);\n",
              "    });\n",
              "  });\n",
              "\n",
              "  const cancel = document.createElement('button');\n",
              "  inputElement.parentElement.appendChild(cancel);\n",
              "  cancel.textContent = 'Cancel upload';\n",
              "  const cancelPromise = new Promise((resolve) => {\n",
              "    cancel.onclick = () => {\n",
              "      resolve(null);\n",
              "    };\n",
              "  });\n",
              "\n",
              "  // Wait for the user to pick the files.\n",
              "  const files = yield {\n",
              "    promise: Promise.race([pickedPromise, cancelPromise]),\n",
              "    response: {\n",
              "      action: 'starting',\n",
              "    }\n",
              "  };\n",
              "\n",
              "  cancel.remove();\n",
              "\n",
              "  // Disable the input element since further picks are not allowed.\n",
              "  inputElement.disabled = true;\n",
              "\n",
              "  if (!files) {\n",
              "    return {\n",
              "      response: {\n",
              "        action: 'complete',\n",
              "      }\n",
              "    };\n",
              "  }\n",
              "\n",
              "  for (const file of files) {\n",
              "    const li = document.createElement('li');\n",
              "    li.append(span(file.name, {fontWeight: 'bold'}));\n",
              "    li.append(span(\n",
              "        `(${file.type || 'n/a'}) - ${file.size} bytes, ` +\n",
              "        `last modified: ${\n",
              "            file.lastModifiedDate ? file.lastModifiedDate.toLocaleDateString() :\n",
              "                                    'n/a'} - `));\n",
              "    const percent = span('0% done');\n",
              "    li.appendChild(percent);\n",
              "\n",
              "    outputElement.appendChild(li);\n",
              "\n",
              "    const fileDataPromise = new Promise((resolve) => {\n",
              "      const reader = new FileReader();\n",
              "      reader.onload = (e) => {\n",
              "        resolve(e.target.result);\n",
              "      };\n",
              "      reader.readAsArrayBuffer(file);\n",
              "    });\n",
              "    // Wait for the data to be ready.\n",
              "    let fileData = yield {\n",
              "      promise: fileDataPromise,\n",
              "      response: {\n",
              "        action: 'continue',\n",
              "      }\n",
              "    };\n",
              "\n",
              "    // Use a chunked sending to avoid message size limits. See b/62115660.\n",
              "    let position = 0;\n",
              "    do {\n",
              "      const length = Math.min(fileData.byteLength - position, MAX_PAYLOAD_SIZE);\n",
              "      const chunk = new Uint8Array(fileData, position, length);\n",
              "      position += length;\n",
              "\n",
              "      const base64 = btoa(String.fromCharCode.apply(null, chunk));\n",
              "      yield {\n",
              "        response: {\n",
              "          action: 'append',\n",
              "          file: file.name,\n",
              "          data: base64,\n",
              "        },\n",
              "      };\n",
              "\n",
              "      let percentDone = fileData.byteLength === 0 ?\n",
              "          100 :\n",
              "          Math.round((position / fileData.byteLength) * 100);\n",
              "      percent.textContent = `${percentDone}% done`;\n",
              "\n",
              "    } while (position < fileData.byteLength);\n",
              "  }\n",
              "\n",
              "  // All done.\n",
              "  yield {\n",
              "    response: {\n",
              "      action: 'complete',\n",
              "    }\n",
              "  };\n",
              "}\n",
              "\n",
              "scope.google = scope.google || {};\n",
              "scope.google.colab = scope.google.colab || {};\n",
              "scope.google.colab._files = {\n",
              "  _uploadFiles,\n",
              "  _uploadFilesContinue,\n",
              "};\n",
              "})(self);\n",
              "</script> "
            ]
          },
          "metadata": {}
        },
        {
          "output_type": "stream",
          "name": "stdout",
          "text": [
            "Saving Screenshot 2025-06-15 030715.png to Screenshot 2025-06-15 030715.png\n",
            "Gambar 'Screenshot 2025-06-15 030715.png' berhasil dimuat.\n"
          ]
        }
      ],
      "source": [
        "\n",
        "uploaded = files.upload()\n",
        "image = None\n",
        "\n",
        "for fn in uploaded.keys():\n",
        "    image = Image.open(io.BytesIO(uploaded[fn]))\n",
        "    image = np.array(image)\n",
        "    image = cv2.cvtColor(image, cv2.COLOR_RGB2BGR)\n",
        "    print(f\"Gambar '{fn}' berhasil dimuat.\")\n"
      ]
    },
    {
      "cell_type": "markdown",
      "id": "VTcOCvYZ1MMN",
      "metadata": {
        "id": "VTcOCvYZ1MMN"
      },
      "source": [
        "# Proses deteksi gesture"
      ]
    },
    {
      "cell_type": "code",
      "execution_count": 26,
      "id": "8ee7f9b0",
      "metadata": {
        "id": "8ee7f9b0"
      },
      "outputs": [],
      "source": [
        "# Inisialisasi MediaPipe\n",
        "mp_hands = mp.solutions.hands\n",
        "mp_pose = mp.solutions.pose\n",
        "mp_drawing = mp.solutions.drawing_utils\n",
        "\n",
        "hands = mp_hands.Hands(static_image_mode=True, max_num_hands=1, min_detection_confidence=0.7)\n",
        "pose = mp_pose.Pose(static_image_mode=True, min_detection_confidence=0.7)\n",
        "\n",
        "def detect_gesture(image):\n",
        "    h, w = image.shape[:2]\n",
        "    image_rgb = cv2.cvtColor(image, cv2.COLOR_BGR2RGB)\n",
        "\n",
        "    # Proses tangan\n",
        "    hand_results = hands.process(image_rgb)\n",
        "    # Proses pose (untuk deteksi kepala & jump)\n",
        "    pose_results = pose.process(image_rgb)\n",
        "\n",
        "    annotated_image = image.copy()\n",
        "    action = \"tidak terdeteksi\"\n",
        "    key = \"-\"\n",
        "\n",
        "    # ========================\n",
        "    # Deteksi gesture tangan\n",
        "    # ========================\n",
        "    if hand_results.multi_hand_landmarks:\n",
        "        for hand_landmarks in hand_results.multi_hand_landmarks:\n",
        "            mp_drawing.draw_landmarks(annotated_image, hand_landmarks, mp_hands.HAND_CONNECTIONS)\n",
        "            landmarks = hand_landmarks.landmark\n",
        "\n",
        "            # Variabel untuk deteksi gesture original\n",
        "            wrist_y = landmarks[0].y * h\n",
        "            index_y = landmarks[8].y * h\n",
        "            middle_y = landmarks[12].y * h\n",
        "            wrist_x = landmarks[0].x * w\n",
        "\n",
        "            # Variabel untuk shooting upward gesture\n",
        "            wrist_upward = landmarks[0]\n",
        "            index_tip_upward = landmarks[8]\n",
        "            index_mcp_upward = landmarks[5]\n",
        "            middle_tip_upward = landmarks[12]\n",
        "            ring_tip_upward = landmarks[16]\n",
        "            pinky_tip_upward = landmarks[20]\n",
        "\n",
        "            wrist_y_upward = wrist_upward.y * h\n",
        "            index_y_upward = index_tip_upward.y * h\n",
        "            index_vector_y_upward = index_tip_upward.y - index_mcp_upward.y\n",
        "            middle_y_upward = middle_tip_upward.y * h\n",
        "            ring_y_upward = ring_tip_upward.y * h\n",
        "            pinky_y_upward = pinky_tip_upward.y * h\n",
        "\n",
        "            # Deteksi shooting upward gesture\n",
        "            hand_high_upward = wrist_y_upward < h * 0.6\n",
        "            index_pointing_up_upward = index_vector_y_upward < -0.05\n",
        "            fingers_bent_upward = sum([\n",
        "                middle_y_upward > index_y_upward + 10,\n",
        "                ring_y_upward > index_y_upward + 10,\n",
        "                pinky_y_upward > index_y_upward + 10\n",
        "            ]) >= 2\n",
        "\n",
        "            if hand_high_upward and index_pointing_up_upward and fingers_bent_upward:\n",
        "                action = \"shoot_up\"\n",
        "                key = \"Arrow Up, x\"\n",
        "                return annotated_image, action, key\n",
        "            elif wrist_y < h * 0.6 and index_y < wrist_y and abs(index_y - middle_y) > 20:\n",
        "                action = \"shoot\"\n",
        "                key = \"x\"\n",
        "            elif wrist_x > w * 0.7 and wrist_y < h * 0.5:\n",
        "                action = \"grenade\"\n",
        "                key = \"s\"\n",
        "\n",
        "    # ========================\n",
        "    # Deteksi kepala dan jump\n",
        "    # ========================\n",
        "    if pose_results.pose_landmarks:\n",
        "        mp_drawing.draw_landmarks(annotated_image, pose_results.pose_landmarks, mp_pose.POSE_CONNECTIONS)\n",
        "        landmarks = pose_results.pose_landmarks.landmark\n",
        "\n",
        "        nose = landmarks[mp_pose.PoseLandmark.NOSE]\n",
        "        left_ear = landmarks[mp_pose.PoseLandmark.LEFT_EAR]\n",
        "        right_ear = landmarks[mp_pose.PoseLandmark.RIGHT_EAR]\n",
        "        left_eye = landmarks[mp_pose.PoseLandmark.LEFT_EYE_INNER]\n",
        "        right_eye = landmarks[mp_pose.PoseLandmark.RIGHT_EYE_INNER]\n",
        "\n",
        "        nose_x = nose.x * w\n",
        "        nose_y = nose.y * h\n",
        "        left_ear_x = left_ear.x * w\n",
        "        right_ear_x = right_ear.x * w\n",
        "\n",
        "        left_ear_y = left_ear.y * h\n",
        "        right_ear_y = right_ear.y * h\n",
        "\n",
        "        right_eye_y = right_eye.y * h\n",
        "        left_eye_y = left_eye.y * h\n",
        "\n",
        "        # Tambahan deteksi gesture jump\n",
        "        left_wrist_y = landmarks[mp_pose.PoseLandmark.LEFT_WRIST].y * h\n",
        "        right_wrist_y = landmarks[mp_pose.PoseLandmark.RIGHT_WRIST].y * h\n",
        "        shoulder_y = (\n",
        "            landmarks[mp_pose.PoseLandmark.LEFT_SHOULDER].y +\n",
        "            landmarks[mp_pose.PoseLandmark.RIGHT_SHOULDER].y\n",
        "        ) / 2 * h\n",
        "\n",
        "        if left_wrist_y < shoulder_y and right_wrist_y < shoulder_y:\n",
        "            action = \"jump\"\n",
        "            key = \"z\"\n",
        "\n",
        "        else:\n",
        "          dist_left = abs(nose_x - left_ear_x)\n",
        "          dist_right = abs(nose_x - right_ear_x)\n",
        "          eye_avg_y = (left_eye_y + right_eye_y) / 2\n",
        "          ear_avg_y = (left_ear_y + right_ear_y) / 2\n",
        "\n",
        "          if dist_right < dist_left and eye_avg_y >= ear_avg_y:\n",
        "              action = \"turning_right_down\"\n",
        "              key = \"Arrow Right, Arrow Down\"\n",
        "          elif dist_left < dist_right and eye_avg_y >= ear_avg_y:\n",
        "              action = \"turning_left_down\"\n",
        "              key = \"Arrow Left, Arrow Down\"\n",
        "          elif dist_right < dist_left:\n",
        "              action = \"turning_right\"\n",
        "              key = \"Arrow Right\"\n",
        "          elif dist_left < dist_right:\n",
        "              action = \"turning_left\"\n",
        "              key = \"Arrow Left\"\n",
        "          elif nose_y > ear_avg_y + 20:\n",
        "              action = \"head_down\"\n",
        "              key = \"Arrow Down\"\n",
        "\n",
        "    return annotated_image, action, key"
      ]
    },
    {
      "cell_type": "code",
      "execution_count": 27,
      "id": "705475c9",
      "metadata": {
        "colab": {
          "base_uri": "https://localhost:8080/",
          "height": 156
        },
        "id": "705475c9",
        "outputId": "8d26c2a7-dcad-464d-db93-00b0acf01c10"
      },
      "outputs": [
        {
          "output_type": "stream",
          "name": "stdout",
          "text": [
            "Gesture terdeteksi: jump, tombol yang ditekan adalah: z\n"
          ]
        },
        {
          "output_type": "display_data",
          "data": {
            "text/plain": [
              "<PIL.Image.Image image mode=RGB size=116x122>"
            ],
            "image/png": "[encoded data removed]",
            "image/jpeg": "[encoded data removed]"
          },
          "metadata": {}
        }
      ],
      "source": [
        "if image is not None:\n",
        "    annotated, gesture, key = detect_gesture(image)\n",
        "    print(f\"Gesture terdeteksi: {gesture}, tombol yang ditekan adalah: {key}\")\n",
        "    cv2_imshow(annotated)"
      ]
    },
    {
      "cell_type": "markdown",
      "id": "a407514f",
      "metadata": {
        "id": "a407514f"
      },
      "source": [
        "| Gesture           | Tombol                  | Penjelasan                                                     |\n",
        "| ----------------- | ----------------------- | -------------------------------------------------------------- |\n",
        "| 🤚 Idle           | `None`                  | Diam, tidak ada aksi                                           |\n",
        "| ✋ Jalan / Maju    | `Arrow Right`           | Angkat tangan kiri lurus ke depan                              |\n",
        "| 🫲 Arah Maju      | `-` (DPAD/Arrow) | Gerakan kepala ke kanan digunakan saat ingin maju              |\n",
        "| 🔫 Shoot          | `x`                     | Tangan kanan mengarah ke depan seperti memegang pistol         |\n",
        "| 💣 Grenade        | `s`                     | Gerakan melempar dari belakang ke depan dengan tangan kanan                      |\n",
        "| 🔫⬆️ Shoot Upward | `Arrow Up + x`          | Tangan mengarah ke atas sambil posisi pistol                   |\n",
        "| 🔽 Crouch         | `Arrow Down`            | Kepala menunduk hingga hidung lebih rendah dari posisi telinga |\n",
        "| 🦘 Jump           | `z`                     | Lompat hingga posisi pundak keluar dari frame                            |\n"
      ]
    },
    {
      "cell_type": "code",
      "execution_count": null,
      "id": "stm5_pGkxFt4",
      "metadata": {
        "id": "stm5_pGkxFt4"
      },
      "outputs": [],
      "source": []
    }
  ],
  "metadata": {
    "colab": {
      "provenance": []
    },
    "kernelspec": {
      "display_name": "Python 3",
      "name": "python3"
    },
    "language_info": {
      "name": "python"
    }
  },
  "nbformat": 4,
  "nbformat_minor": 5
}